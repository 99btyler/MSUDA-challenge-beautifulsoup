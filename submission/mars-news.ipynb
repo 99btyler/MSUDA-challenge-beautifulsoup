{
 "cells": [
  {
   "cell_type": "markdown",
   "metadata": {},
   "source": [
    "# Mars News"
   ]
  },
  {
   "cell_type": "code",
   "execution_count": 27,
   "metadata": {},
   "outputs": [],
   "source": [
    "from bs4 import BeautifulSoup\n",
    "from splinter import Browser"
   ]
  },
  {
   "cell_type": "code",
   "execution_count": 28,
   "metadata": {},
   "outputs": [],
   "source": [
    "browser = Browser(\"chrome\")"
   ]
  },
  {
   "cell_type": "markdown",
   "metadata": {},
   "source": [
    "#### Step 1: Visit the Website"
   ]
  },
  {
   "cell_type": "code",
   "execution_count": 29,
   "metadata": {},
   "outputs": [],
   "source": [
    "url = \"https://static.bc-edx.com/data/web/mars_news/index.html\"\n",
    "browser.visit(url)"
   ]
  },
  {
   "cell_type": "markdown",
   "metadata": {},
   "source": [
    "#### Step 2: Scrape the Website"
   ]
  },
  {
   "cell_type": "code",
   "execution_count": 30,
   "metadata": {},
   "outputs": [],
   "source": [
    "soup = BeautifulSoup(browser.html, \"html.parser\")"
   ]
  },
  {
   "cell_type": "code",
   "execution_count": 33,
   "metadata": {},
   "outputs": [
    {
     "data": {
      "text/plain": [
       "[<p class=\"card-text\">NASA Marks 25 Years Since Pathfinder Touched Down on Mars</p>,\n",
       " <p class=\"card-text\">NASA's Perseverance Rover Captures Video of Solar Eclipse on Mars</p>,\n",
       " <p class=\"card-text\">NASA, UAE Mars Missions Agree to Share Science Data</p>,\n",
       " <p id=\"datasource\">Images and news content extracted from NASA's <a href=\"https://mars.nasa.gov/news/\">Mars News</a> website on November 9, 2022.<br/>\n",
       "          Images used in accordance with the <a href=\"https://www.jpl.nasa.gov/jpl-image-use-policy\">JPL Image Use Policy</a>.</p>,\n",
       " <p id=\"edx\">This site is operated by edX Boot Camps LLC for educational purposes only.  <br/>\n",
       "             This is not a website endorsed by NASA. This website is intended only for internal academic purposes.</p>]"
      ]
     },
     "execution_count": 33,
     "metadata": {},
     "output_type": "execute_result"
    }
   ],
   "source": [
    "p_elements = soup.find_all(\"p\")\n",
    "p_elements"
   ]
  }
 ],
 "metadata": {
  "kernelspec": {
   "display_name": "Python 3",
   "language": "python",
   "name": "python3"
  },
  "language_info": {
   "codemirror_mode": {
    "name": "ipython",
    "version": 3
   },
   "file_extension": ".py",
   "mimetype": "text/x-python",
   "name": "python",
   "nbconvert_exporter": "python",
   "pygments_lexer": "ipython3",
   "version": "3.11.4"
  }
 },
 "nbformat": 4,
 "nbformat_minor": 2
}
